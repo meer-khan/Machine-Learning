{
  "nbformat": 4,
  "nbformat_minor": 0,
  "metadata": {
    "colab": {
      "name": "Copy of polynomial_regression_by_meer.ipynb",
      "provenance": [],
      "collapsed_sections": []
    },
    "kernelspec": {
      "name": "python3",
      "display_name": "Python 3"
    }
  },
  "cells": [
    {
      "cell_type": "markdown",
      "metadata": {
        "id": "vN99YjPTDena"
      },
      "source": [
        "# Polynomial Regression"
      ]
    },
    {
      "cell_type": "markdown",
      "metadata": {
        "id": "ZIx_naXnDyHd"
      },
      "source": [
        "## Importing the libraries"
      ]
    },
    {
      "cell_type": "code",
      "metadata": {
        "id": "ZTwloZPUZdiW"
      },
      "source": [
        "import numpy as np \n",
        "import pandas as pd \n",
        "import matplotlib.pyplot as plt "
      ],
      "execution_count": 1,
      "outputs": []
    },
    {
      "cell_type": "markdown",
      "metadata": {
        "id": "6c8YExmOD5x5"
      },
      "source": [
        "## Importing the dataset"
      ]
    },
    {
      "cell_type": "code",
      "metadata": {
        "id": "V2r6Z6BHZpcN"
      },
      "source": [
        "dataset = pd.read_csv(\"Position_Salaries.csv\")\n",
        "X = dataset.iloc[:,1:-1].values\n",
        "y = dataset.iloc[:,-1].values"
      ],
      "execution_count": 2,
      "outputs": []
    },
    {
      "cell_type": "code",
      "metadata": {
        "colab": {
          "base_uri": "https://localhost:8080/"
        },
        "id": "a3owzOB6aAdK",
        "outputId": "774282b8-e360-4656-a044-b2d07b92f6a8"
      },
      "source": [
        "print(X)"
      ],
      "execution_count": 3,
      "outputs": [
        {
          "output_type": "stream",
          "text": [
            "[[ 1]\n",
            " [ 2]\n",
            " [ 3]\n",
            " [ 4]\n",
            " [ 5]\n",
            " [ 6]\n",
            " [ 7]\n",
            " [ 8]\n",
            " [ 9]\n",
            " [10]]\n"
          ],
          "name": "stdout"
        }
      ]
    },
    {
      "cell_type": "code",
      "metadata": {
        "colab": {
          "base_uri": "https://localhost:8080/"
        },
        "id": "ttEvY1RoaDF3",
        "outputId": "b90eff63-9bd5-4ff6-b94b-c5005c49377d"
      },
      "source": [
        "print(y)"
      ],
      "execution_count": 4,
      "outputs": [
        {
          "output_type": "stream",
          "text": [
            "[  45000   50000   60000   80000  110000  150000  200000  300000  500000\n",
            " 1000000]\n"
          ],
          "name": "stdout"
        }
      ]
    },
    {
      "cell_type": "markdown",
      "metadata": {
        "id": "Le8SEL-YEOLb"
      },
      "source": [
        "## Training the Linear Regression model on the whole dataset"
      ]
    },
    {
      "cell_type": "code",
      "metadata": {
        "colab": {
          "base_uri": "https://localhost:8080/"
        },
        "id": "Z4UH65eSYEjw",
        "outputId": "45c0c1e6-0335-47e5-9978-990ed61ed5ff"
      },
      "source": [
        "from sklearn.linear_model import LinearRegression\n",
        "lin_reg = LinearRegression()\n",
        "lin_reg.fit(X,y)"
      ],
      "execution_count": 5,
      "outputs": [
        {
          "output_type": "execute_result",
          "data": {
            "text/plain": [
              "LinearRegression(copy_X=True, fit_intercept=True, n_jobs=None, normalize=False)"
            ]
          },
          "metadata": {
            "tags": []
          },
          "execution_count": 5
        }
      ]
    },
    {
      "cell_type": "markdown",
      "metadata": {
        "id": "Rb5nWuSHEfBV"
      },
      "source": [
        "## Training the Polynomial Regression model on the whole dataset"
      ]
    },
    {
      "cell_type": "code",
      "metadata": {
        "colab": {
          "base_uri": "https://localhost:8080/"
        },
        "id": "nosRF2zGYqZz",
        "outputId": "b78aad7a-26a1-44b1-f6cf-36b8bfe2c1d4"
      },
      "source": [
        "from sklearn.preprocessing import PolynomialFeatures\n",
        "poly_reg = PolynomialFeatures(degree = 8)\n",
        "X_poly = poly_reg.fit_transform(X)\n",
        "lin_reg_2 = LinearRegression()\n",
        "lin_reg_2.fit(X_poly,y)"
      ],
      "execution_count": 15,
      "outputs": [
        {
          "output_type": "execute_result",
          "data": {
            "text/plain": [
              "LinearRegression(copy_X=True, fit_intercept=True, n_jobs=None, normalize=False)"
            ]
          },
          "metadata": {
            "tags": []
          },
          "execution_count": 15
        }
      ]
    },
    {
      "cell_type": "code",
      "metadata": {
        "colab": {
          "base_uri": "https://localhost:8080/"
        },
        "id": "J-qRKPS3EzLL",
        "outputId": "6400bf65-e6c9-41c1-9ad7-eb3cb8cf40ea"
      },
      "source": [
        "print(X_poly)"
      ],
      "execution_count": 16,
      "outputs": [
        {
          "output_type": "stream",
          "text": [
            "[[1.0000000e+00 1.0000000e+00 1.0000000e+00 1.0000000e+00 1.0000000e+00\n",
            "  1.0000000e+00 1.0000000e+00 1.0000000e+00 1.0000000e+00]\n",
            " [1.0000000e+00 2.0000000e+00 4.0000000e+00 8.0000000e+00 1.6000000e+01\n",
            "  3.2000000e+01 6.4000000e+01 1.2800000e+02 2.5600000e+02]\n",
            " [1.0000000e+00 3.0000000e+00 9.0000000e+00 2.7000000e+01 8.1000000e+01\n",
            "  2.4300000e+02 7.2900000e+02 2.1870000e+03 6.5610000e+03]\n",
            " [1.0000000e+00 4.0000000e+00 1.6000000e+01 6.4000000e+01 2.5600000e+02\n",
            "  1.0240000e+03 4.0960000e+03 1.6384000e+04 6.5536000e+04]\n",
            " [1.0000000e+00 5.0000000e+00 2.5000000e+01 1.2500000e+02 6.2500000e+02\n",
            "  3.1250000e+03 1.5625000e+04 7.8125000e+04 3.9062500e+05]\n",
            " [1.0000000e+00 6.0000000e+00 3.6000000e+01 2.1600000e+02 1.2960000e+03\n",
            "  7.7760000e+03 4.6656000e+04 2.7993600e+05 1.6796160e+06]\n",
            " [1.0000000e+00 7.0000000e+00 4.9000000e+01 3.4300000e+02 2.4010000e+03\n",
            "  1.6807000e+04 1.1764900e+05 8.2354300e+05 5.7648010e+06]\n",
            " [1.0000000e+00 8.0000000e+00 6.4000000e+01 5.1200000e+02 4.0960000e+03\n",
            "  3.2768000e+04 2.6214400e+05 2.0971520e+06 1.6777216e+07]\n",
            " [1.0000000e+00 9.0000000e+00 8.1000000e+01 7.2900000e+02 6.5610000e+03\n",
            "  5.9049000e+04 5.3144100e+05 4.7829690e+06 4.3046721e+07]\n",
            " [1.0000000e+00 1.0000000e+01 1.0000000e+02 1.0000000e+03 1.0000000e+04\n",
            "  1.0000000e+05 1.0000000e+06 1.0000000e+07 1.0000000e+08]]\n"
          ],
          "name": "stdout"
        }
      ]
    },
    {
      "cell_type": "markdown",
      "metadata": {
        "id": "0O8R0tzbEpvy"
      },
      "source": [
        "## Visualising the Linear Regression results"
      ]
    },
    {
      "cell_type": "code",
      "metadata": {
        "colab": {
          "base_uri": "https://localhost:8080/",
          "height": 295
        },
        "id": "u0TPUiC0aHxo",
        "outputId": "26f7db5b-d9b2-4440-eabd-f5f34bfcaf1c"
      },
      "source": [
        "plt.scatter(X,y , color='r')\n",
        "plt.plot(X,lin_reg.predict(X), color = 'b')\n",
        "plt.title(\"BLUFF or Real\")\n",
        "plt.xlabel(\"Salaries\")\n",
        "plt.ylabel(\"Level\")\n",
        "plt.show()"
      ],
      "execution_count": 17,
      "outputs": [
        {
          "output_type": "display_data",
          "data": {
            "image/png": "[encoded data removed]",
            "text/plain": [
              "<Figure size 432x288 with 1 Axes>"
            ]
          },
          "metadata": {
            "tags": [],
            "needs_background": "light"
          }
        }
      ]
    },
    {
      "cell_type": "markdown",
      "metadata": {
        "id": "stOnSo74E52m"
      },
      "source": [
        "## Visualising the Polynomial Regression results"
      ]
    },
    {
      "cell_type": "code",
      "metadata": {
        "colab": {
          "base_uri": "https://localhost:8080/",
          "height": 295
        },
        "id": "hdy8vM23amX7",
        "outputId": "f577cfe2-cd19-4ae1-fd96-8b28d2128438"
      },
      "source": [
        "plt.scatter(X,y , color='r')\n",
        "plt.plot(X,lin_reg_2.predict(X_poly), color = 'b')\n",
        "plt.title(\"BLUFF or Real\")\n",
        "plt.xlabel(\"Salaries\")\n",
        "plt.ylabel(\"Level\")\n",
        "plt.show()"
      ],
      "execution_count": 18,
      "outputs": [
        {
          "output_type": "display_data",
          "data": {
            "image/png": "[encoded data removed]",
            "text/plain": [
              "<Figure size 432x288 with 1 Axes>"
            ]
          },
          "metadata": {
            "tags": [],
            "needs_background": "light"
          }
        }
      ]
    },
    {
      "cell_type": "markdown",
      "metadata": {
        "id": "U_qsAMKnE-PJ"
      },
      "source": [
        "## Visualising the Polynomial Regression results (for higher resolution and smoother curve)"
      ]
    },
    {
      "cell_type": "code",
      "metadata": {
        "colab": {
          "base_uri": "https://localhost:8080/",
          "height": 564
        },
        "id": "dOHHcRRgayAc",
        "outputId": "c18c2d94-9d95-4809-a158-ce14502e18de"
      },
      "source": [
        "print(\"X is\",X)\n",
        "X_grid = np.arange(min(X), max(X), 0.1)\n",
        "print(X_grid)\n",
        "print(\"LENGTH\",len(X_grid))\n",
        "X_grid = X_grid.reshape((len(X_grid), 1))\n",
        "plt.scatter(X, y, color = 'red')\n",
        "plt.plot(X_grid, lin_reg_2.predict(poly_reg.fit_transform(X_grid)), color = 'blue')\n",
        "plt.title('Truth or Bluff (Polynomial Regression)')\n",
        "plt.xlabel('Position level')\n",
        "plt.ylabel('Salary')\n",
        "plt.show()"
      ],
      "execution_count": 26,
      "outputs": [
        {
          "output_type": "stream",
          "text": [
            "X is [[ 1]\n",
            " [ 2]\n",
            " [ 3]\n",
            " [ 4]\n",
            " [ 5]\n",
            " [ 6]\n",
            " [ 7]\n",
            " [ 8]\n",
            " [ 9]\n",
            " [10]]\n",
            "[1.  1.1 1.2 1.3 1.4 1.5 1.6 1.7 1.8 1.9 2.  2.1 2.2 2.3 2.4 2.5 2.6 2.7\n",
            " 2.8 2.9 3.  3.1 3.2 3.3 3.4 3.5 3.6 3.7 3.8 3.9 4.  4.1 4.2 4.3 4.4 4.5\n",
            " 4.6 4.7 4.8 4.9 5.  5.1 5.2 5.3 5.4 5.5 5.6 5.7 5.8 5.9 6.  6.1 6.2 6.3\n",
            " 6.4 6.5 6.6 6.7 6.8 6.9 7.  7.1 7.2 7.3 7.4 7.5 7.6 7.7 7.8 7.9 8.  8.1\n",
            " 8.2 8.3 8.4 8.5 8.6 8.7 8.8 8.9 9.  9.1 9.2 9.3 9.4 9.5 9.6 9.7 9.8 9.9]\n",
            "LENGTH 90\n"
          ],
          "name": "stdout"
        },
        {
          "output_type": "display_data",
          "data": {
            "image/png": "[encoded data removed]",
            "text/plain": [
              "<Figure size 432x288 with 1 Axes>"
            ]
          },
          "metadata": {
            "tags": [],
            "needs_background": "light"
          }
        }
      ]
    },
    {
      "cell_type": "markdown",
      "metadata": {
        "id": "cFLa260THXx8"
      },
      "source": [
        "### Numpy.arange()\n",
        "\n",
        "Return evenly spaced values within a given interval.\n",
        "\n",
        "**Parameters**: [start, ]stop, [step, ]\n",
        "\n",
        "**start** : Start of interval. The interval includes this value.   The default start value is 0 [OPTIONAL]\n",
        "\n",
        "**stop** : End of interval. The interval does not include this value, except in some cases where step is not an integer and floating point round-off affects the length of out\n",
        "\n",
        "**step** : Spacing between values."
      ]
    },
    {
      "cell_type": "markdown",
      "metadata": {
        "id": "TrqiMdNsGyHq"
      },
      "source": [
        "### Numpy.reshape()\n",
        "`X_grid.reshape` method will change the 1 D array into 2D array or 3D array as our requirement \n",
        "\n",
        "we give 1st parameter as No. of rows and 2nd Parameter as No. Columns "
      ]
    },
    {
      "cell_type": "code",
      "metadata": {
        "colab": {
          "base_uri": "https://localhost:8080/"
        },
        "id": "UDcxh5lHGBMP",
        "outputId": "6bd5836f-5f5b-42c5-ee8d-18c1636bea81"
      },
      "source": [
        "print(X_grid)"
      ],
      "execution_count": 22,
      "outputs": [
        {
          "output_type": "stream",
          "text": [
            "[[1. ]\n",
            " [1.1]\n",
            " [1.2]\n",
            " [1.3]\n",
            " [1.4]\n",
            " [1.5]\n",
            " [1.6]\n",
            " [1.7]\n",
            " [1.8]\n",
            " [1.9]\n",
            " [2. ]\n",
            " [2.1]\n",
            " [2.2]\n",
            " [2.3]\n",
            " [2.4]\n",
            " [2.5]\n",
            " [2.6]\n",
            " [2.7]\n",
            " [2.8]\n",
            " [2.9]\n",
            " [3. ]\n",
            " [3.1]\n",
            " [3.2]\n",
            " [3.3]\n",
            " [3.4]\n",
            " [3.5]\n",
            " [3.6]\n",
            " [3.7]\n",
            " [3.8]\n",
            " [3.9]\n",
            " [4. ]\n",
            " [4.1]\n",
            " [4.2]\n",
            " [4.3]\n",
            " [4.4]\n",
            " [4.5]\n",
            " [4.6]\n",
            " [4.7]\n",
            " [4.8]\n",
            " [4.9]\n",
            " [5. ]\n",
            " [5.1]\n",
            " [5.2]\n",
            " [5.3]\n",
            " [5.4]\n",
            " [5.5]\n",
            " [5.6]\n",
            " [5.7]\n",
            " [5.8]\n",
            " [5.9]\n",
            " [6. ]\n",
            " [6.1]\n",
            " [6.2]\n",
            " [6.3]\n",
            " [6.4]\n",
            " [6.5]\n",
            " [6.6]\n",
            " [6.7]\n",
            " [6.8]\n",
            " [6.9]\n",
            " [7. ]\n",
            " [7.1]\n",
            " [7.2]\n",
            " [7.3]\n",
            " [7.4]\n",
            " [7.5]\n",
            " [7.6]\n",
            " [7.7]\n",
            " [7.8]\n",
            " [7.9]\n",
            " [8. ]\n",
            " [8.1]\n",
            " [8.2]\n",
            " [8.3]\n",
            " [8.4]\n",
            " [8.5]\n",
            " [8.6]\n",
            " [8.7]\n",
            " [8.8]\n",
            " [8.9]\n",
            " [9. ]\n",
            " [9.1]\n",
            " [9.2]\n",
            " [9.3]\n",
            " [9.4]\n",
            " [9.5]\n",
            " [9.6]\n",
            " [9.7]\n",
            " [9.8]\n",
            " [9.9]]\n"
          ],
          "name": "stdout"
        }
      ]
    },
    {
      "cell_type": "markdown",
      "metadata": {
        "id": "diyJFZHhFFeK"
      },
      "source": [
        "## Predicting a new result with Linear Regression"
      ]
    },
    {
      "cell_type": "code",
      "metadata": {
        "colab": {
          "base_uri": "https://localhost:8080/"
        },
        "id": "mIv6u9xHaz1-",
        "outputId": "ee20c63f-9dd6-47c4-b833-8477fba81a86"
      },
      "source": [
        "print ( lin_reg.predict([[6.5]]))"
      ],
      "execution_count": 20,
      "outputs": [
        {
          "output_type": "stream",
          "text": [
            "[330378.78787879]\n"
          ],
          "name": "stdout"
        }
      ]
    },
    {
      "cell_type": "markdown",
      "metadata": {
        "id": "DW7I7ZVDFNkk"
      },
      "source": [
        "## Predicting a new result with Polynomial Regression"
      ]
    },
    {
      "cell_type": "code",
      "metadata": {
        "colab": {
          "base_uri": "https://localhost:8080/"
        },
        "id": "eUpDBQdsa4wp",
        "outputId": "8f8379b7-eebc-4c45-a2ff-f91c49fce544"
      },
      "source": [
        "print (lin_reg_2.predict(poly_reg.fit_transform([[6.5]])))"
      ],
      "execution_count": 21,
      "outputs": [
        {
          "output_type": "stream",
          "text": [
            "[171303.64903585]\n"
          ],
          "name": "stdout"
        }
      ]
    }
  ]
}